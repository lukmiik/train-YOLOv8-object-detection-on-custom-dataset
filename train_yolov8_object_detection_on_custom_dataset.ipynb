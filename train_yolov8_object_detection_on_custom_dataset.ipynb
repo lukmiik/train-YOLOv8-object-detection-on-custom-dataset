{
  "cells": [
    {
      "cell_type": "markdown",
      "metadata": {
        "id": "c3eawNmGRlQ7"
      },
      "source": [
        "# Preparation"
      ]
    },
    {
      "cell_type": "markdown",
      "metadata": {
        "id": "ZrDdSF0hQpU-"
      },
      "source": [
        "Checks that notebook has access to GPU. If not go to `Runtime` -> `change runtime type`.\n",
        "\n"
      ]
    },
    {
      "cell_type": "code",
      "execution_count": null,
      "metadata": {
        "colab": {
          "base_uri": "https://localhost:8080/"
        },
        "id": "7kcOeA3p5XWz",
        "outputId": "e47ce16b-abf0-4b74-cbcb-430cb6451d0d"
      },
      "outputs": [],
      "source": [
        "!nvidia-smi\n"
      ]
    },
    {
      "cell_type": "markdown",
      "metadata": {
        "id": "a5LwQS5bR2FT"
      },
      "source": [
        "Sets path to files"
      ]
    },
    {
      "cell_type": "code",
      "execution_count": null,
      "metadata": {
        "colab": {
          "base_uri": "https://localhost:8080/"
        },
        "id": "cui7tuM_R86Q",
        "outputId": "bcdda14d-ec7f-44e1-82d3-99297926915a"
      },
      "outputs": [],
      "source": [
        "import os\n",
        "HOME = os.getcwd()\n",
        "print(HOME)\n"
      ]
    },
    {
      "cell_type": "markdown",
      "metadata": {
        "id": "2Mh2CL8FSdH3"
      },
      "source": [
        "Install and import YOLOv8"
      ]
    },
    {
      "cell_type": "code",
      "execution_count": null,
      "metadata": {
        "colab": {
          "base_uri": "https://localhost:8080/"
        },
        "id": "B27nAbRASgR7",
        "outputId": "9fd80806-1fa3-4588-b3b9-c0fbce5a5644"
      },
      "outputs": [],
      "source": [
        "!pip install ultralytics==8.0.20\n"
      ]
    },
    {
      "cell_type": "code",
      "execution_count": null,
      "metadata": {
        "id": "iZRRYq37Sv_t"
      },
      "outputs": [],
      "source": [
        "from ultralytics import YOLO\n",
        "from IPython.display import display, Image\n"
      ]
    },
    {
      "cell_type": "markdown",
      "metadata": {
        "id": "XT3mVAOVU1bA"
      },
      "source": [
        "# Get dataset"
      ]
    },
    {
      "cell_type": "markdown",
      "metadata": {
        "id": "PDJv3Tp8U53Z"
      },
      "source": [
        "Dataset from roboflow"
      ]
    },
    {
      "cell_type": "code",
      "execution_count": null,
      "metadata": {
        "colab": {
          "base_uri": "https://localhost:8080/",
          "height": 1000
        },
        "id": "ejzgC89sU5ci",
        "outputId": "9d0450d8-75b4-4ca6-d315-c840c1cd16e2"
      },
      "outputs": [],
      "source": [
        "!mkdir {HOME}/datasets\n",
        "%cd {HOME}/datasets\n",
        "\n",
        "!pip install roboflow\n",
        "\n",
        "from roboflow import Roboflow\n",
        "rf = Roboflow(api_key=\"API_KEY\")\n",
        "project = rf.workspace(\"kakann\").project(\"barbell-detector-bncfm\")\n",
        "dataset = project.version(2).download(\"yolov8\")\n"
      ]
    },
    {
      "cell_type": "markdown",
      "metadata": {
        "id": "Jsv8VbMTXb7a"
      },
      "source": [
        "# Train"
      ]
    },
    {
      "cell_type": "code",
      "execution_count": null,
      "metadata": {
        "colab": {
          "base_uri": "https://localhost:8080/"
        },
        "id": "ytV0GjQQXfby",
        "outputId": "438bf389-1af1-489e-cbe5-2f57de448616"
      },
      "outputs": [],
      "source": [
        "%cd {HOME}\n",
        "\n",
        "!yolo task=detect mode=train model=yolov8s.pt data={dataset.location}/data.yaml epochs=100 imgsz=640 plots=True\n"
      ]
    },
    {
      "cell_type": "markdown",
      "metadata": {
        "id": "eTt8HpgILkwo"
      },
      "source": [
        "# Display training results"
      ]
    },
    {
      "cell_type": "markdown",
      "metadata": {
        "id": "pvKCcUalQOM2"
      },
      "source": [
        "Display confusion matrix"
      ]
    },
    {
      "cell_type": "code",
      "execution_count": null,
      "metadata": {
        "colab": {
          "base_uri": "https://localhost:8080/",
          "height": 484
        },
        "id": "QP6i8YYVQRx4",
        "outputId": "25854f76-0daa-4380-8415-f6bdc2cf1445"
      },
      "outputs": [],
      "source": [
        "%cd {HOME}\n",
        "\n",
        "confusion_matrix = Image(filename=f'{HOME}/runs/detect/train/confusion_matrix.png', width=600)\n",
        "display(confusion_matrix)\n"
      ]
    },
    {
      "cell_type": "markdown",
      "metadata": {
        "id": "u0EOn_I2QWFX"
      },
      "source": [
        "Display results"
      ]
    },
    {
      "cell_type": "code",
      "execution_count": null,
      "metadata": {
        "colab": {
          "base_uri": "https://localhost:8080/",
          "height": 334
        },
        "id": "NV-NSRltQXOb",
        "outputId": "542d9367-2622-4418-ed81-a312f30fe0ab"
      },
      "outputs": [],
      "source": [
        "%cd {HOME}\n",
        "\n",
        "results = Image(filename=f'{HOME}/runs/detect/train/results.png', width=600)\n",
        "display(results)\n"
      ]
    },
    {
      "cell_type": "markdown",
      "metadata": {
        "id": "u3rXK9QjQe_U"
      },
      "source": [
        "Display val batch labels and predictions"
      ]
    },
    {
      "cell_type": "code",
      "execution_count": null,
      "metadata": {
        "colab": {
          "base_uri": "https://localhost:8080/",
          "height": 892
        },
        "id": "fcMoiEX5Qjro",
        "outputId": "47cf5022-565d-4537-e8ab-a32f576943f6"
      },
      "outputs": [],
      "source": [
        "%cd {HOME}\n",
        "\n",
        "val_batch0_labels = Image(filename=f'{HOME}/runs/detect/train/val_batch0_labels.jpg', width=600)\n",
        "val_batch0_pred = Image(filename=f'{HOME}/runs/detect/train/val_batch0_pred.jpg', width=600)\n",
        "display(val_batch0_labels, val_batch0_pred)\n"
      ]
    },
    {
      "cell_type": "code",
      "execution_count": null,
      "metadata": {
        "colab": {
          "base_uri": "https://localhost:8080/",
          "height": 1000
        },
        "id": "V5bybMRzQm3B",
        "outputId": "85b93f79-2d61-4fcc-fd38-f6d45bc18f12"
      },
      "outputs": [],
      "source": [
        "%cd {HOME}\n",
        "\n",
        "val_batch1_labels = Image(filename=f'{HOME}/runs/detect/train/val_batch1_labels.jpg', width=600)\n",
        "val_batch1_pred = Image(filename=f'{HOME}/runs/detect/train/val_batch1_pred.jpg', width=600)\n",
        "display(val_batch1_labels, val_batch1_pred)\n"
      ]
    },
    {
      "cell_type": "code",
      "execution_count": null,
      "metadata": {
        "colab": {
          "base_uri": "https://localhost:8080/",
          "height": 1000
        },
        "id": "9dLefcAGQpq9",
        "outputId": "be0bf9ed-b9f4-45f8-9d93-5f00a9fc941f"
      },
      "outputs": [],
      "source": [
        "%cd {HOME}\n",
        "\n",
        "val_batch2_labels = Image(filename=f'{HOME}/runs/detect/train/val_batch2_labels.jpg', width=600)\n",
        "val_batch2_pred = Image(filename=f'{HOME}/runs/detect/train/val_batch2_pred.jpg', width=600)\n",
        "display(val_batch2_labels, val_batch2_pred)\n"
      ]
    },
    {
      "cell_type": "markdown",
      "metadata": {
        "id": "Dj8NcQJiQt56"
      },
      "source": [
        "Display curves"
      ]
    },
    {
      "cell_type": "code",
      "execution_count": null,
      "metadata": {
        "colab": {
          "base_uri": "https://localhost:8080/",
          "height": 1000
        },
        "id": "QOHxm2wILokH",
        "outputId": "c55fe6df-7676-4817-b2b6-1d1fdc04be1c"
      },
      "outputs": [],
      "source": [
        "%cd {HOME}\n",
        "\n",
        "F1_curve = Image(filename=f'{HOME}/runs/detect/train/F1_curve.png', width=600)\n",
        "PR_curve = Image(filename=f'{HOME}/runs/detect/train/PR_curve.png', width=600)\n",
        "P_curve = Image(filename=f'{HOME}/runs/detect/train/P_curve.png', width=600)\n",
        "R_curve = Image(filename=f'{HOME}/runs/detect/train/R_curve.png', width=600)\n",
        "display(F1_curve, PR_curve, P_curve, R_curve)\n"
      ]
    },
    {
      "cell_type": "markdown",
      "metadata": {
        "id": "l_HH9lwJP0Hf"
      },
      "source": [
        "Validation"
      ]
    },
    {
      "cell_type": "code",
      "execution_count": null,
      "metadata": {
        "colab": {
          "base_uri": "https://localhost:8080/"
        },
        "id": "Qwrx37FNP2Qp",
        "outputId": "074a01ff-f052-4bbc-a5fa-47c2a4c3fe5f"
      },
      "outputs": [],
      "source": [
        "%cd {HOME}\n",
        "\n",
        "!yolo task=detect mode=val model={HOME}/runs/detect/train/weights/best.pt data={dataset.location}/data.yaml\n"
      ]
    },
    {
      "cell_type": "markdown",
      "metadata": {
        "id": "YOMmjn_ORzN9"
      },
      "source": [
        "# Download runs folder"
      ]
    },
    {
      "cell_type": "markdown",
      "metadata": {
        "id": "CrYFB9eGR6FR"
      },
      "source": [
        "Zip folder"
      ]
    },
    {
      "cell_type": "code",
      "execution_count": null,
      "metadata": {
        "colab": {
          "base_uri": "https://localhost:8080/"
        },
        "id": "4172qtFnR7Ro",
        "outputId": "0249d0ed-6a8a-4457-9c3b-1af3750f5b42"
      },
      "outputs": [],
      "source": [
        "%cd {HOME}\n",
        "\n",
        "!zip -r runs.zip {HOME}/runs\n"
      ]
    },
    {
      "cell_type": "markdown",
      "metadata": {
        "id": "Kw4-9rVZSE27"
      },
      "source": [
        "Download zip files"
      ]
    },
    {
      "cell_type": "code",
      "execution_count": null,
      "metadata": {
        "colab": {
          "base_uri": "https://localhost:8080/",
          "height": 17
        },
        "id": "OmDvdmA9SGus",
        "outputId": "0dfcdf20-1cfa-42ab-f5e9-aa1511386da2"
      },
      "outputs": [],
      "source": [
        "from google.colab import files\n",
        "\n",
        "files.download('runs.zip')\n"
      ]
    }
  ],
  "metadata": {
    "accelerator": "GPU",
    "colab": {
      "gpuType": "T4",
      "provenance": []
    },
    "kernelspec": {
      "display_name": "Python 3",
      "name": "python3"
    },
    "language_info": {
      "name": "python"
    }
  },
  "nbformat": 4,
  "nbformat_minor": 0
}
