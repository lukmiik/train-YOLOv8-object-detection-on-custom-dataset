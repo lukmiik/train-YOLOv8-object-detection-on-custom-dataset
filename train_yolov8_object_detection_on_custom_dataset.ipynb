{
  "cells": [
    {
      "cell_type": "markdown",
      "metadata": {
        "id": "c3eawNmGRlQ7"
      },
      "source": [
        "# Preparation"
      ]
    },
    {
      "cell_type": "markdown",
      "metadata": {
        "id": "ZrDdSF0hQpU-"
      },
      "source": [
        "Checks that notebook has access to GPU. If not go to `Runtime` -> `change runtime type`.\n",
        "\n"
      ]
    },
    {
      "cell_type": "code",
      "execution_count": null,
      "metadata": {
        "id": "7kcOeA3p5XWz"
      },
      "outputs": [],
      "source": [
        "!nvidia-smi"
      ]
    },
    {
      "cell_type": "markdown",
      "metadata": {
        "id": "a5LwQS5bR2FT"
      },
      "source": [
        "Sets path to files"
      ]
    },
    {
      "cell_type": "code",
      "execution_count": null,
      "metadata": {
        "id": "cui7tuM_R86Q"
      },
      "outputs": [],
      "source": [
        "import os\n",
        "HOME = os.getcwd()\n",
        "print(HOME)"
      ]
    },
    {
      "cell_type": "markdown",
      "metadata": {
        "id": "2Mh2CL8FSdH3"
      },
      "source": [
        "Install and import YOLOv8"
      ]
    },
    {
      "cell_type": "code",
      "execution_count": null,
      "metadata": {
        "id": "B27nAbRASgR7"
      },
      "outputs": [],
      "source": [
        "!pip install ultralytics==8.0.196"
      ]
    },
    {
      "cell_type": "code",
      "execution_count": null,
      "metadata": {
        "id": "iZRRYq37Sv_t"
      },
      "outputs": [],
      "source": [
        "from ultralytics import YOLO\n",
        "from IPython.display import display, Image"
      ]
    },
    {
      "cell_type": "markdown",
      "metadata": {
        "id": "XT3mVAOVU1bA"
      },
      "source": [
        "# Get dataset"
      ]
    },
    {
      "cell_type": "markdown",
      "metadata": {
        "id": "PDJv3Tp8U53Z"
      },
      "source": [
        "Dataset from roboflow"
      ]
    },
    {
      "cell_type": "code",
      "execution_count": null,
      "metadata": {
        "id": "ejzgC89sU5ci"
      },
      "outputs": [],
      "source": [
        "!mkdir {HOME}/datasets\n",
        "%cd {HOME}/datasets\n",
        "\n",
        "!pip install roboflow\n",
        "\n",
        "from roboflow import Roboflow\n",
        "rf = Roboflow(api_key=\"5s95xvyWyxq6A4qT3CrU\")\n",
        "project = rf.workspace(\"kakann\").project(\"barbell-detector-bncfm\")\n",
        "dataset = project.version(2).download(\"yolov8\")"
      ]
    },
    {
      "cell_type": "markdown",
      "metadata": {
        "id": "Jsv8VbMTXb7a"
      },
      "source": [
        "# Train"
      ]
    },
    {
      "cell_type": "code",
      "execution_count": null,
      "metadata": {
        "id": "ytV0GjQQXfby"
      },
      "outputs": [],
      "source": [
        "%cd {HOME}\n",
        "\n",
        "!yolo task=detect mode=train model=yolov8s.pt data={dataset.location}/data.yaml epochs=100 imgsz=640 plots=True"
      ]
    },
    {
      "cell_type": "markdown",
      "metadata": {
        "id": "eTt8HpgILkwo"
      },
      "source": [
        "# Display training results"
      ]
    },
    {
      "cell_type": "code",
      "source": [
        "!pip install -q supervision==0.13.0\n",
        "!pip install numpy"
      ],
      "metadata": {
        "id": "wTQYoZ2NtAIP"
      },
      "execution_count": null,
      "outputs": []
    },
    {
      "cell_type": "markdown",
      "metadata": {
        "id": "pvKCcUalQOM2"
      },
      "source": [
        "Display confusion matrix"
      ]
    },
    {
      "cell_type": "code",
      "source": [
        "import supervision as sv\n",
        "import numpy as np\n",
        "\n",
        "ds = sv.DetectionDataset.from_yolo(\n",
        "    images_directory_path=f\"{dataset.location}/test/images\",\n",
        "    annotations_directory_path=f\"{dataset.location}/test/labels\",\n",
        "    data_yaml_path=f\"{dataset.location}/data.yaml\",\n",
        ")\n",
        "model = YOLO('/content/best.pt')\n",
        "def callback(image: np.ndarray) -> sv.Detections:\n",
        "    result = model(image)[0]\n",
        "    return sv.Detections.from_ultralytics(result)\n",
        "\n",
        "confusion_matrix = sv.ConfusionMatrix.benchmark(\n",
        "     dataset = ds,\n",
        "     callback = callback\n",
        ")\n",
        "confusion_matrix_plot = confusion_matrix.plot()\n",
        "confusion_matrix_plot.savefig(f\"{HOME}/confusion_matrix.png\")"
      ],
      "metadata": {
        "id": "MwF04E2FrRq1"
      },
      "execution_count": null,
      "outputs": []
    },
    {
      "cell_type": "markdown",
      "metadata": {
        "id": "u0EOn_I2QWFX"
      },
      "source": [
        "Display results"
      ]
    },
    {
      "cell_type": "code",
      "source": [
        "%cd {HOME}\n",
        "\n",
        "results = Image(filename=f'{HOME}/runs/detect/train/results.png', width=600)\n",
        "display(results)"
      ],
      "metadata": {
        "id": "vVhN9L6YxT5x"
      },
      "execution_count": null,
      "outputs": []
    },
    {
      "cell_type": "markdown",
      "metadata": {
        "id": "u3rXK9QjQe_U"
      },
      "source": [
        "Display val batch labels and predictions"
      ]
    },
    {
      "cell_type": "code",
      "execution_count": null,
      "metadata": {
        "id": "fcMoiEX5Qjro"
      },
      "outputs": [],
      "source": [
        "%cd {HOME}\n",
        "\n",
        "val_batch0_labels = Image(filename=f'{HOME}/runs/detect/train/val_batch0_labels.jpg', width=600)\n",
        "val_batch0_pred = Image(filename=f'{HOME}/runs/detect/train/val_batch0_pred.jpg', width=600)\n",
        "display(val_batch0_labels, val_batch0_pred)"
      ]
    },
    {
      "cell_type": "code",
      "execution_count": null,
      "metadata": {
        "id": "V5bybMRzQm3B"
      },
      "outputs": [],
      "source": [
        "%cd {HOME}\n",
        "\n",
        "val_batch1_labels = Image(filename=f'{HOME}/runs/detect/train/val_batch1_labels.jpg', width=600)\n",
        "val_batch1_pred = Image(filename=f'{HOME}/runs/detect/train/val_batch1_pred.jpg', width=600)\n",
        "display(val_batch1_labels, val_batch1_pred)"
      ]
    },
    {
      "cell_type": "code",
      "execution_count": null,
      "metadata": {
        "id": "9dLefcAGQpq9"
      },
      "outputs": [],
      "source": [
        "%cd {HOME}\n",
        "\n",
        "val_batch2_labels = Image(filename=f'{HOME}/runs/detect/train/val_batch2_labels.jpg', width=600)\n",
        "val_batch2_pred = Image(filename=f'{HOME}/runs/detect/train/val_batch2_pred.jpg', width=600)\n",
        "display(val_batch2_labels, val_batch2_pred)"
      ]
    },
    {
      "cell_type": "markdown",
      "metadata": {
        "id": "Dj8NcQJiQt56"
      },
      "source": [
        "Display curves"
      ]
    },
    {
      "cell_type": "code",
      "execution_count": null,
      "metadata": {
        "id": "QOHxm2wILokH"
      },
      "outputs": [],
      "source": [
        "%cd {HOME}\n",
        "\n",
        "F1_curve = Image(filename=f'{HOME}/runs/detect/train/F1_curve.png', width=600)\n",
        "PR_curve = Image(filename=f'{HOME}/runs/detect/train/PR_curve.png', width=600)\n",
        "P_curve = Image(filename=f'{HOME}/runs/detect/train/P_curve.png', width=600)\n",
        "R_curve = Image(filename=f'{HOME}/runs/detect/train/R_curve.png', width=600)\n",
        "display(F1_curve, PR_curve, P_curve, R_curve)"
      ]
    },
    {
      "cell_type": "markdown",
      "metadata": {
        "id": "l_HH9lwJP0Hf"
      },
      "source": [
        "Validation"
      ]
    },
    {
      "cell_type": "code",
      "execution_count": null,
      "metadata": {
        "id": "Qwrx37FNP2Qp"
      },
      "outputs": [],
      "source": [
        "%cd {HOME}\n",
        "\n",
        "!yolo task=detect mode=val model={HOME}/runs/detect/train/weights/best.pt data={dataset.location}/data.yaml"
      ]
    },
    {
      "cell_type": "markdown",
      "metadata": {
        "id": "YOMmjn_ORzN9"
      },
      "source": [
        "# Download runs folder"
      ]
    },
    {
      "cell_type": "markdown",
      "metadata": {
        "id": "CrYFB9eGR6FR"
      },
      "source": [
        "Zip folder"
      ]
    },
    {
      "cell_type": "code",
      "execution_count": null,
      "metadata": {
        "id": "4172qtFnR7Ro"
      },
      "outputs": [],
      "source": [
        "%cd {HOME}\n",
        "\n",
        "!zip -r runs.zip {HOME}/runs"
      ]
    },
    {
      "cell_type": "markdown",
      "metadata": {
        "id": "Kw4-9rVZSE27"
      },
      "source": [
        "Download zip files"
      ]
    },
    {
      "cell_type": "code",
      "execution_count": null,
      "metadata": {
        "id": "OmDvdmA9SGus"
      },
      "outputs": [],
      "source": [
        "from google.colab import files\n",
        "\n",
        "files.download('runs.zip')"
      ]
    }
  ],
  "metadata": {
    "accelerator": "GPU",
    "colab": {
      "gpuType": "T4",
      "provenance": []
    },
    "kernelspec": {
      "display_name": "Python 3",
      "name": "python3"
    },
    "language_info": {
      "name": "python"
    }
  },
  "nbformat": 4,
  "nbformat_minor": 0
}